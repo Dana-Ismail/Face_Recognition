{
  "cells": [
    {
      "cell_type": "code",
      "execution_count": null,
      "metadata": {
        "id": "RwcneI5ACV96"
      },
      "outputs": [],
      "source": [
        "import matplotlib.pyplot as plt\n",
        "import numpy as np\n",
        "import pandas as pd\n",
        "import glob\n",
        "import os\n",
        "import tensorflow as tf\n",
        "from pathlib import Path\n",
        "import PIL\n",
        "import PIL.Image\n",
        "from google.colab import drive\n",
        "from sklearn.model_selection import train_test_split\n",
        "from keras.callbacks import EarlyStopping\n",
        "from tensorflow.keras.preprocessing.image import load_img, img_to_array\n",
        "from tensorflow.keras.preprocessing import image_dataset_from_directory\n"
      ]
    },
    {
      "cell_type": "code",
      "source": [
        "data =  '/content/data'"
      ],
      "metadata": {
        "id": "IthO2_udY5kA"
      },
      "execution_count": null,
      "outputs": []
    },
    {
      "cell_type": "code",
      "source": [
        "# get person_id\n",
        "def get_label_person_id(img_path):\n",
        "    person_id = os.path.splitext(img_path)[0].split(\"_\")[1].replace(\"person\", \"\")\n",
        "    return int(person_id)"
      ],
      "metadata": {
        "id": "UdvgVIN2NfCb"
      },
      "execution_count": null,
      "outputs": []
    },
    {
      "cell_type": "code",
      "source": [
        "images = glob.glob(data + '/*.png') "
      ],
      "metadata": {
        "id": "Q2RPyf0dad3i"
      },
      "execution_count": null,
      "outputs": []
    },
    {
      "cell_type": "code",
      "source": [
        "images"
      ],
      "metadata": {
        "colab": {
          "base_uri": "https://localhost:8080/"
        },
        "id": "Ehuo46JdaqEt",
        "outputId": "06ecc613-1bd7-4d6d-e8db-3d9768f5dc46"
      },
      "execution_count": null,
      "outputs": [
        {
          "output_type": "execute_result",
          "data": {
            "text/plain": [
              "['/content/data/five_person02.png',\n",
              " '/content/data/three_person01.png',\n",
              " '/content/data/seven_person02.png',\n",
              " '/content/data/three_person02.png',\n",
              " '/content/data/six_person02.png',\n",
              " '/content/data/two_person02.png',\n",
              " '/content/data/two_person01.png',\n",
              " '/content/data/one_person02.png',\n",
              " '/content/data/six_person01.png',\n",
              " '/content/data/one_person01.png',\n",
              " '/content/data/five_person01.png',\n",
              " '/content/data/four_person02.png',\n",
              " '/content/data/four_person01.png',\n",
              " '/content/data/seven_person01.png']"
            ]
          },
          "metadata": {},
          "execution_count": 117
        }
      ]
    },
    {
      "cell_type": "code",
      "execution_count": null,
      "metadata": {
        "id": "rGMcTWwvC_Gk"
      },
      "outputs": [],
      "source": [
        "IMG_WIDTH=320\n",
        "IMG_HEIGHT=243\n",
        "BATCH_SIZE = 32"
      ]
    },
    {
      "cell_type": "code",
      "execution_count": null,
      "metadata": {
        "colab": {
          "base_uri": "https://localhost:8080/"
        },
        "id": "NVkwCy_f4rMG",
        "outputId": "de2d147b-620f-44bb-f863-7de7eeba8eb8"
      },
      "outputs": [
        {
          "output_type": "execute_result",
          "data": {
            "text/plain": [
              "2"
            ]
          },
          "metadata": {},
          "execution_count": 120
        }
      ],
      "source": [
        "get_label_person_id(images[0])"
      ]
    },
    {
      "cell_type": "code",
      "execution_count": null,
      "metadata": {
        "id": "3RPfnDVf6v4d"
      },
      "outputs": [],
      "source": [
        "from tensorflow.keras.applications.vgg16 import preprocess_input"
      ]
    },
    {
      "cell_type": "code",
      "execution_count": null,
      "metadata": {
        "id": "qRDmv5ngQx0g"
      },
      "outputs": [],
      "source": [
        "person_ids = []\n",
        "images_as_trainable_objects = []\n",
        "for image_path in images:\n",
        "  person_id = get_label_person_id(image_path)\n",
        "  if person_id:\n",
        "    # adjust the label id to start from zero so that to adapt when converting to \n",
        "    # labels\n",
        "    person_id = person_id - 1\n",
        "    # \n",
        "    # prepare the image as the CNN needs\n",
        "    image = load_img(image_path, target_size=(IMG_WIDTH, IMG_HEIGHT))\n",
        "    image = img_to_array(image)\n",
        "    image = image.reshape((IMG_WIDTH, IMG_HEIGHT, 3))\n",
        "    image = preprocess_input(image)\n",
        "    images_as_trainable_objects.append(image)\n",
        "    person_ids.append(person_id)"
      ]
    },
    {
      "cell_type": "code",
      "source": [
        "type(images_as_trainable_objects)"
      ],
      "metadata": {
        "colab": {
          "base_uri": "https://localhost:8080/"
        },
        "id": "h1siC1ugtSvS",
        "outputId": "878657a4-a91b-44ea-be80-b49b51806c0d"
      },
      "execution_count": null,
      "outputs": [
        {
          "output_type": "execute_result",
          "data": {
            "text/plain": [
              "list"
            ]
          },
          "metadata": {},
          "execution_count": 123
        }
      ]
    },
    {
      "cell_type": "code",
      "source": [
        "len(images_as_trainable_objects)"
      ],
      "metadata": {
        "colab": {
          "base_uri": "https://localhost:8080/"
        },
        "id": "BwyRpfa7tWnw",
        "outputId": "b1ea3f5e-bd8d-4f23-a8b4-9e49dbdc83c0"
      },
      "execution_count": null,
      "outputs": [
        {
          "output_type": "execute_result",
          "data": {
            "text/plain": [
              "14"
            ]
          },
          "metadata": {},
          "execution_count": 124
        }
      ]
    },
    {
      "cell_type": "code",
      "source": [
        "type(images_as_trainable_objects[0])"
      ],
      "metadata": {
        "colab": {
          "base_uri": "https://localhost:8080/"
        },
        "id": "HjLWiCCVtaOC",
        "outputId": "d701a3a4-523b-41f4-9ed2-7e1359e53fc6"
      },
      "execution_count": null,
      "outputs": [
        {
          "output_type": "execute_result",
          "data": {
            "text/plain": [
              "numpy.ndarray"
            ]
          },
          "metadata": {},
          "execution_count": 125
        }
      ]
    },
    {
      "cell_type": "code",
      "execution_count": null,
      "metadata": {
        "colab": {
          "base_uri": "https://localhost:8080/"
        },
        "id": "_uqZQcGb7DQD",
        "outputId": "ba0c47e2-bb15-4495-9b69-300e966696cd"
      },
      "outputs": [
        {
          "output_type": "execute_result",
          "data": {
            "text/plain": [
              "1"
            ]
          },
          "metadata": {},
          "execution_count": 126
        }
      ],
      "source": [
        "person_ids[0]"
      ]
    },
    {
      "cell_type": "code",
      "execution_count": null,
      "metadata": {
        "colab": {
          "base_uri": "https://localhost:8080/"
        },
        "id": "ChEzRCGo8lFk",
        "outputId": "af227707-afb9-408e-e8ae-ab40df614dfa"
      },
      "outputs": [
        {
          "output_type": "execute_result",
          "data": {
            "text/plain": [
              "{0, 1}"
            ]
          },
          "metadata": {},
          "execution_count": 127
        }
      ],
      "source": [
        "set(person_ids)"
      ]
    },
    {
      "cell_type": "code",
      "execution_count": null,
      "metadata": {
        "colab": {
          "base_uri": "https://localhost:8080/"
        },
        "id": "sHIULB-v_GOE",
        "outputId": "ee63c0b7-c781-4e1d-ce74-6dd2f9779be7"
      },
      "outputs": [
        {
          "output_type": "stream",
          "name": "stdout",
          "text": [
            "before :  <class 'list'>\n"
          ]
        },
        {
          "output_type": "execute_result",
          "data": {
            "text/plain": [
              "(14, 320, 243, 3)"
            ]
          },
          "metadata": {},
          "execution_count": 128
        }
      ],
      "source": [
        "print('before : ', type(images_as_trainable_objects))\n",
        "images_as_trainable_objects = np.array(images_as_trainable_objects)\n",
        "images_as_trainable_objects.shape"
      ]
    },
    {
      "cell_type": "code",
      "execution_count": null,
      "metadata": {
        "colab": {
          "base_uri": "https://localhost:8080/"
        },
        "id": "Qd2myPg49S1J",
        "outputId": "969d6107-2663-4ea1-ff5a-6dfce0b2d6b7"
      },
      "outputs": [
        {
          "output_type": "execute_result",
          "data": {
            "text/plain": [
              "array([  6.060997, -14.778999, -44.68    ], dtype=float32)"
            ]
          },
          "metadata": {},
          "execution_count": 129
        }
      ],
      "source": [
        "# normalized RGB values for the first image and the first pixel in that image\n",
        "images_as_trainable_objects[0][0][0]"
      ]
    },
    {
      "cell_type": "code",
      "execution_count": null,
      "metadata": {
        "id": "vZK7qU8q8Wbh"
      },
      "outputs": [],
      "source": [
        "# convert values from numeric to category (one hot encoding)\n",
        "from tensorflow.python.keras.utils import np_utils\n",
        "person_ids = np_utils.to_categorical(person_ids, 2)"
      ]
    },
    {
      "cell_type": "code",
      "execution_count": null,
      "metadata": {
        "colab": {
          "base_uri": "https://localhost:8080/"
        },
        "id": "n4Dn3ZXb85Nt",
        "outputId": "7b7377f5-41f7-471d-8541-76e286cba239"
      },
      "outputs": [
        {
          "output_type": "execute_result",
          "data": {
            "text/plain": [
              "array([0., 1.], dtype=float32)"
            ]
          },
          "metadata": {},
          "execution_count": 131
        }
      ],
      "source": [
        "person_ids[0]"
      ]
    },
    {
      "cell_type": "markdown",
      "metadata": {
        "id": "M134bFtvRHZ_"
      },
      "source": [
        "## get VGG16 for Transfer Learning"
      ]
    },
    {
      "cell_type": "code",
      "execution_count": null,
      "metadata": {
        "id": "K1eyAUNcStGn"
      },
      "outputs": [],
      "source": [
        "from tensorflow.keras.applications.vgg16 import VGG16\n",
        "from tensorflow.keras.layers import MaxPooling2D, Dense, Flatten, Convolution2D\n",
        "from tensorflow.keras.models import Model\n",
        "from tensorflow.keras import Input"
      ]
    },
    {
      "cell_type": "code",
      "execution_count": null,
      "metadata": {
        "colab": {
          "base_uri": "https://localhost:8080/"
        },
        "id": "oU4FzgXrRKqb",
        "outputId": "832f9651-b49e-48f8-eaf2-51dfd1bb25ad"
      },
      "outputs": [
        {
          "output_type": "stream",
          "name": "stdout",
          "text": [
            "Model: \"model_7\"\n",
            "_________________________________________________________________\n",
            " Layer (type)                Output Shape              Param #   \n",
            "=================================================================\n",
            " input_8 (InputLayer)        [(None, 320, 243, 3)]     0         \n",
            "                                                                 \n",
            " block1_conv1 (Conv2D)       (None, 320, 243, 64)      1792      \n",
            "                                                                 \n",
            " block1_conv2 (Conv2D)       (None, 320, 243, 64)      36928     \n",
            "                                                                 \n",
            " block1_pool (MaxPooling2D)  (None, 160, 121, 64)      0         \n",
            "                                                                 \n",
            " block2_conv1 (Conv2D)       (None, 160, 121, 128)     73856     \n",
            "                                                                 \n",
            " block2_conv2 (Conv2D)       (None, 160, 121, 128)     147584    \n",
            "                                                                 \n",
            " block2_pool (MaxPooling2D)  (None, 80, 60, 128)       0         \n",
            "                                                                 \n",
            " block3_conv1 (Conv2D)       (None, 80, 60, 256)       295168    \n",
            "                                                                 \n",
            " block3_conv2 (Conv2D)       (None, 80, 60, 256)       590080    \n",
            "                                                                 \n",
            " block3_conv3 (Conv2D)       (None, 80, 60, 256)       590080    \n",
            "                                                                 \n",
            " block3_pool (MaxPooling2D)  (None, 40, 30, 256)       0         \n",
            "                                                                 \n",
            " block4_conv1 (Conv2D)       (None, 40, 30, 512)       1180160   \n",
            "                                                                 \n",
            " block4_conv2 (Conv2D)       (None, 40, 30, 512)       2359808   \n",
            "                                                                 \n",
            " block4_conv3 (Conv2D)       (None, 40, 30, 512)       2359808   \n",
            "                                                                 \n",
            " block4_pool (MaxPooling2D)  (None, 20, 15, 512)       0         \n",
            "                                                                 \n",
            " block5_conv1 (Conv2D)       (None, 20, 15, 512)       2359808   \n",
            "                                                                 \n",
            " block5_conv2 (Conv2D)       (None, 20, 15, 512)       2359808   \n",
            "                                                                 \n",
            " block5_conv3 (Conv2D)       (None, 20, 15, 512)       2359808   \n",
            "                                                                 \n",
            " block5_pool (MaxPooling2D)  (None, 10, 7, 512)        0         \n",
            "                                                                 \n",
            " conv2d_7 (Conv2D)           (None, 8, 5, 64)          294976    \n",
            "                                                                 \n",
            " max_pooling2d_7 (MaxPooling  (None, 4, 2, 64)         0         \n",
            " 2D)                                                             \n",
            "                                                                 \n",
            " flatten_7 (Flatten)         (None, 512)               0         \n",
            "                                                                 \n",
            " dense_14 (Dense)            (None, 512)               262656    \n",
            "                                                                 \n",
            " dense_15 (Dense)            (None, 2)                 1026      \n",
            "                                                                 \n",
            "=================================================================\n",
            "Total params: 15,273,346\n",
            "Trainable params: 558,658\n",
            "Non-trainable params: 14,714,688\n",
            "_________________________________________________________________\n"
          ]
        }
      ],
      "source": [
        "# load base model VGG16\n",
        "base_model = VGG16(weights='imagenet',\n",
        "                   include_top=False,\n",
        "                   input_tensor=Input(shape=(IMG_WIDTH, IMG_HEIGHT, 3)),\n",
        "                   pooling='max',\n",
        "                   classes=2)\n",
        "\n",
        "# disable training on conv and inner layers\n",
        "for layer in base_model.layers:\n",
        "  layer.trainable = False\n",
        "\n",
        "# I cat get the output from any specific layer\n",
        "x = base_model.get_layer('block5_pool').output\n",
        "# Stacking a new simple convolutional network on top of it\n",
        "x = Convolution2D(64, 3)(x)\n",
        "x = MaxPooling2D(pool_size=(2, 2))(x)\n",
        "x = Flatten()(x)\n",
        "x = Dense(512, activation='relu')(x)\n",
        "x = Dense(2, activation='softmax')(x)\n",
        "\n",
        "vgg = Model(inputs=base_model.input, outputs=x)\n",
        "vgg.summary()"
      ]
    },
    {
      "cell_type": "code",
      "execution_count": null,
      "metadata": {
        "id": "LsyJ-dHOSt6W"
      },
      "outputs": [],
      "source": [
        "# compile the model\n",
        "vgg.compile(optimizer='adam', loss='categorical_crossentropy', metrics=['accuracy'])"
      ]
    },
    {
      "cell_type": "code",
      "source": [
        "# fit the model with the data\n",
        "history = vgg.fit(\n",
        "    images_as_trainable_objects,\n",
        "    person_ids,\n",
        "    epochs=10,\n",
        "    validation_data=None,\n",
        "    callbacks=[EarlyStopping(patience=3, monitor='loss')],\n",
        "    verbose=1\n",
        ")"
      ],
      "metadata": {
        "colab": {
          "base_uri": "https://localhost:8080/"
        },
        "id": "ChDMs9U9cNZr",
        "outputId": "118827f8-1397-4b64-c141-47d71f85dae3"
      },
      "execution_count": null,
      "outputs": [
        {
          "output_type": "stream",
          "name": "stdout",
          "text": [
            "Epoch 1/10\n",
            "1/1 [==============================] - 3s 3s/step - loss: 2.3720 - accuracy: 0.5714\n",
            "Epoch 2/10\n",
            "1/1 [==============================] - 0s 143ms/step - loss: 7.9184 - accuracy: 0.5714\n",
            "Epoch 3/10\n",
            "1/1 [==============================] - 0s 125ms/step - loss: 3.4837 - accuracy: 0.7857\n",
            "Epoch 4/10\n",
            "1/1 [==============================] - 0s 100ms/step - loss: 0.3199 - accuracy: 0.9286\n",
            "Epoch 5/10\n",
            "1/1 [==============================] - 0s 103ms/step - loss: 0.0000e+00 - accuracy: 1.0000\n",
            "Epoch 6/10\n",
            "1/1 [==============================] - 0s 100ms/step - loss: 0.0000e+00 - accuracy: 1.0000\n",
            "Epoch 7/10\n",
            "1/1 [==============================] - 0s 98ms/step - loss: 0.0000e+00 - accuracy: 1.0000\n",
            "Epoch 8/10\n",
            "1/1 [==============================] - 0s 95ms/step - loss: 0.0000e+00 - accuracy: 1.0000\n"
          ]
        }
      ]
    },
    {
      "cell_type": "code",
      "source": [
        "person_ids[-1]"
      ],
      "metadata": {
        "colab": {
          "base_uri": "https://localhost:8080/"
        },
        "id": "Yvde8F4lXmKA",
        "outputId": "4df57ac6-d416-4116-a79c-ac34934d3824"
      },
      "execution_count": null,
      "outputs": [
        {
          "output_type": "execute_result",
          "data": {
            "text/plain": [
              "array([1., 0.], dtype=float32)"
            ]
          },
          "metadata": {},
          "execution_count": 136
        }
      ]
    },
    {
      "cell_type": "code",
      "source": [
        "images_as_trainable_objects[-1].shape"
      ],
      "metadata": {
        "colab": {
          "base_uri": "https://localhost:8080/"
        },
        "id": "XKWsYMYQZGQC",
        "outputId": "dc1df7df-5e47-4bd7-9b34-8b0c22091680"
      },
      "execution_count": null,
      "outputs": [
        {
          "output_type": "execute_result",
          "data": {
            "text/plain": [
              "(320, 243, 3)"
            ]
          },
          "metadata": {},
          "execution_count": 137
        }
      ]
    },
    {
      "cell_type": "code",
      "source": [
        "images_as_trainable_objects.shape"
      ],
      "metadata": {
        "colab": {
          "base_uri": "https://localhost:8080/"
        },
        "id": "3u0V000rZI_C",
        "outputId": "07445d15-7cf3-4e4d-ee53-4fab4f4d0f3c"
      },
      "execution_count": null,
      "outputs": [
        {
          "output_type": "execute_result",
          "data": {
            "text/plain": [
              "(14, 320, 243, 3)"
            ]
          },
          "metadata": {},
          "execution_count": 138
        }
      ]
    },
    {
      "cell_type": "code",
      "source": [
        "images_as_trainable_objects[-1].reshape((1, *images_as_trainable_objects[-1].shape)).shape"
      ],
      "metadata": {
        "colab": {
          "base_uri": "https://localhost:8080/"
        },
        "id": "ulYdLpXUZPx-",
        "outputId": "c9e6e4e5-dfe2-4820-b87a-d685c6a233b7"
      },
      "execution_count": null,
      "outputs": [
        {
          "output_type": "execute_result",
          "data": {
            "text/plain": [
              "(1, 320, 243, 3)"
            ]
          },
          "metadata": {},
          "execution_count": 139
        }
      ]
    },
    {
      "cell_type": "code",
      "execution_count": null,
      "metadata": {
        "id": "KpMIPVSBZ7-6",
        "colab": {
          "base_uri": "https://localhost:8080/"
        },
        "outputId": "a5f72173-5e21-4c62-ac0e-315c0eb652b1"
      },
      "outputs": [
        {
          "output_type": "stream",
          "name": "stdout",
          "text": [
            "1/1 [==============================] - 0s 155ms/step\n"
          ]
        }
      ],
      "source": [
        "# validation \n",
        "batch_of_one_sample = images_as_trainable_objects[-1].reshape((1, *images_as_trainable_objects[-1].shape))\n",
        "yhat = vgg.predict(batch_of_one_sample)"
      ]
    },
    {
      "cell_type": "code",
      "source": [
        "yhat"
      ],
      "metadata": {
        "colab": {
          "base_uri": "https://localhost:8080/"
        },
        "id": "kzKpwpE8bDdV",
        "outputId": "f48610dd-985b-411a-eb42-696a2964f342"
      },
      "execution_count": null,
      "outputs": [
        {
          "output_type": "execute_result",
          "data": {
            "text/plain": [
              "array([[1.0000000e+00, 2.3123256e-21]], dtype=float32)"
            ]
          },
          "metadata": {},
          "execution_count": 141
        }
      ]
    },
    {
      "cell_type": "code",
      "source": [
        "person_ids[-1]"
      ],
      "metadata": {
        "colab": {
          "base_uri": "https://localhost:8080/"
        },
        "id": "QLpICpJpqMPK",
        "outputId": "2998d06e-cd79-4c6f-d125-36bbae407a6b"
      },
      "execution_count": null,
      "outputs": [
        {
          "output_type": "execute_result",
          "data": {
            "text/plain": [
              "array([1., 0.], dtype=float32)"
            ]
          },
          "metadata": {},
          "execution_count": 148
        }
      ]
    },
    {
      "cell_type": "code",
      "source": [
        "preds_class_prob = np.max(yhat, axis=-1) \n",
        "preds_class_prob"
      ],
      "metadata": {
        "colab": {
          "base_uri": "https://localhost:8080/"
        },
        "id": "4tfq5lPMbOuu",
        "outputId": "78ced6bd-7701-4893-e49e-bc96a5351a06"
      },
      "execution_count": null,
      "outputs": [
        {
          "output_type": "execute_result",
          "data": {
            "text/plain": [
              "array([1.], dtype=float32)"
            ]
          },
          "metadata": {},
          "execution_count": 142
        }
      ]
    },
    {
      "cell_type": "code",
      "source": [
        "predicted_class = np.argmax(yhat, axis=-1)\n",
        "predicted_class"
      ],
      "metadata": {
        "colab": {
          "base_uri": "https://localhost:8080/"
        },
        "id": "CReh_m26ZwHV",
        "outputId": "0bcafabd-6b1e-4727-9c4c-b368b94a3877"
      },
      "execution_count": null,
      "outputs": [
        {
          "output_type": "execute_result",
          "data": {
            "text/plain": [
              "array([0])"
            ]
          },
          "metadata": {},
          "execution_count": 143
        }
      ]
    },
    {
      "cell_type": "code",
      "execution_count": null,
      "metadata": {
        "colab": {
          "base_uri": "https://localhost:8080/"
        },
        "id": "SeFAeQk0Bx96",
        "outputId": "b43ea952-7faf-4eec-9696-517398853840"
      },
      "outputs": [
        {
          "output_type": "stream",
          "name": "stdout",
          "text": [
            "Downloading data from https://storage.googleapis.com/tensorflow/keras-applications/vgg16/vgg16_weights_tf_dim_ordering_tf_kernels.h5\n",
            "553467096/553467096 [==============================] - 3s 0us/step\n",
            "Model: \"vgg16\"\n",
            "_________________________________________________________________\n",
            " Layer (type)                Output Shape              Param #   \n",
            "=================================================================\n",
            " input_9 (InputLayer)        [(None, 224, 224, 3)]     0         \n",
            "                                                                 \n",
            " block1_conv1 (Conv2D)       (None, 224, 224, 64)      1792      \n",
            "                                                                 \n",
            " block1_conv2 (Conv2D)       (None, 224, 224, 64)      36928     \n",
            "                                                                 \n",
            " block1_pool (MaxPooling2D)  (None, 112, 112, 64)      0         \n",
            "                                                                 \n",
            " block2_conv1 (Conv2D)       (None, 112, 112, 128)     73856     \n",
            "                                                                 \n",
            " block2_conv2 (Conv2D)       (None, 112, 112, 128)     147584    \n",
            "                                                                 \n",
            " block2_pool (MaxPooling2D)  (None, 56, 56, 128)       0         \n",
            "                                                                 \n",
            " block3_conv1 (Conv2D)       (None, 56, 56, 256)       295168    \n",
            "                                                                 \n",
            " block3_conv2 (Conv2D)       (None, 56, 56, 256)       590080    \n",
            "                                                                 \n",
            " block3_conv3 (Conv2D)       (None, 56, 56, 256)       590080    \n",
            "                                                                 \n",
            " block3_pool (MaxPooling2D)  (None, 28, 28, 256)       0         \n",
            "                                                                 \n",
            " block4_conv1 (Conv2D)       (None, 28, 28, 512)       1180160   \n",
            "                                                                 \n",
            " block4_conv2 (Conv2D)       (None, 28, 28, 512)       2359808   \n",
            "                                                                 \n",
            " block4_conv3 (Conv2D)       (None, 28, 28, 512)       2359808   \n",
            "                                                                 \n",
            " block4_pool (MaxPooling2D)  (None, 14, 14, 512)       0         \n",
            "                                                                 \n",
            " block5_conv1 (Conv2D)       (None, 14, 14, 512)       2359808   \n",
            "                                                                 \n",
            " block5_conv2 (Conv2D)       (None, 14, 14, 512)       2359808   \n",
            "                                                                 \n",
            " block5_conv3 (Conv2D)       (None, 14, 14, 512)       2359808   \n",
            "                                                                 \n",
            " block5_pool (MaxPooling2D)  (None, 7, 7, 512)         0         \n",
            "                                                                 \n",
            " flatten (Flatten)           (None, 25088)             0         \n",
            "                                                                 \n",
            " fc1 (Dense)                 (None, 4096)              102764544 \n",
            "                                                                 \n",
            " fc2 (Dense)                 (None, 4096)              16781312  \n",
            "                                                                 \n",
            " predictions (Dense)         (None, 1000)              4097000   \n",
            "                                                                 \n",
            "=================================================================\n",
            "Total params: 138,357,544\n",
            "Trainable params: 138,357,544\n",
            "Non-trainable params: 0\n",
            "_________________________________________________________________\n"
          ]
        }
      ],
      "source": [
        "tf.keras.applications.VGG16(\n",
        "    include_top=True,\n",
        "    weights=\"imagenet\",\n",
        "    input_tensor=None,\n",
        "    input_shape=None,\n",
        "    pooling=None,\n",
        "    classes=1000,\n",
        "    classifier_activation=\"softmax\",\n",
        ").summary()"
      ]
    },
    {
      "cell_type": "code",
      "execution_count": null,
      "metadata": {
        "id": "RkM0s84YB42o"
      },
      "outputs": [],
      "source": []
    }
  ],
  "metadata": {
    "accelerator": "GPU",
    "colab": {
      "provenance": []
    },
    "kernelspec": {
      "display_name": "Python 3",
      "name": "python3"
    },
    "language_info": {
      "name": "python"
    }
  },
  "nbformat": 4,
  "nbformat_minor": 0
}